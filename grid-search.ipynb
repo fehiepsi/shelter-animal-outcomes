{
 "cells": [
  {
   "cell_type": "code",
   "execution_count": 1,
   "metadata": {
    "collapsed": true
   },
   "outputs": [],
   "source": [
    "import numpy as np\n",
    "import pandas as pd\n",
    "import pickle\n",
    "from sklearn.cross_validation import StratifiedKFold\n",
    "from sklearn.grid_search import GridSearchCV\n",
    "from sklearn.metrics import log_loss, make_scorer\n",
    "import xgboost as xgb\n",
    "\n",
    "# build function to find optimal n_estimators\n",
    "# note: if learning_rate, reg_alpha, reg_lambda are not set\n",
    "# xgboost will use default values from https://github.com/dmlc/xgboost/blob/master/doc/parameter.md\n",
    "# e.g. eta = 0.3 instead of 0.1\n",
    "# if they are set, eta, alpha, lambda will be overwritten\n",
    "# the best n_estimators is Name + 1\n",
    "def modelfit(model, data, label, cv=5, early_stopping_rounds=50):\n",
    "    params = model.get_params()\n",
    "    params[\"num_class\"] = 5\n",
    "    dtrain = xgb.DMatrix(data, label)\n",
    "    cvresult = xgb.cv(params, dtrain, num_boost_round=model.get_params()[\"n_estimators\"],\n",
    "                      nfold=cv, stratified=True,\n",
    "                      metrics=\"mlogloss\", early_stopping_rounds=early_stopping_rounds, verbose_eval=50)\n",
    "    print(cvresult.iloc[-1])\n",
    "    \n",
    "def modelsubmit(model, train_data, train_label, test_data, label_list):\n",
    "    model.fit(train_data, train_label, eval_metric=\"mlogloss\")\n",
    "    test_predict = model.predict_proba(test_data)\n",
    "    sample = pd.read_csv(\"input/sample_submission.csv\")\n",
    "    sample[label_list] = test_predict\n",
    "    sample.to_csv(\"submit/xgb_grid.csv\", index=False)\n",
    "    \n",
    "# define scorer for log_loss\n",
    "scorer = make_scorer(log_loss, greater_is_better=False, needs_proba=True)"
   ]
  },
  {
   "cell_type": "code",
   "execution_count": 2,
   "metadata": {
    "collapsed": true
   },
   "outputs": [],
   "source": [
    "from model_xgb import preprocess_data\n",
    "preprocess_data()"
   ]
  },
  {
   "cell_type": "code",
   "execution_count": 3,
   "metadata": {
    "collapsed": false
   },
   "outputs": [],
   "source": [
    "# load data\n",
    "with open(\"preprocessed_data.pkl\", \"rb\") as f:\n",
    "    train_data = pickle.load(f)\n",
    "    train_label = pickle.load(f)\n",
    "    test_data = pickle.load(f)\n",
    "    label_list = pickle.load(f)"
   ]
  },
  {
   "cell_type": "code",
   "execution_count": 4,
   "metadata": {
    "collapsed": false
   },
   "outputs": [
    {
     "name": "stdout",
     "output_type": "stream",
     "text": [
      "[0]\ttrain-mlogloss:1.50834+0.00259039\ttest-mlogloss:1.50932+0.00264449\n",
      "[50]\ttrain-mlogloss:0.745173+0.00139901\ttest-mlogloss:0.78491+0.00458113\n",
      "[100]\ttrain-mlogloss:0.695665+0.00146069\ttest-mlogloss:0.76512+0.00512111\n",
      "[150]\ttrain-mlogloss:0.670507+0.00182044\ttest-mlogloss:0.761591+0.00581021\n",
      "[200]\ttrain-mlogloss:0.651371+0.00153139\ttest-mlogloss:0.760524+0.00589777\n",
      "[250]\ttrain-mlogloss:0.63475+0.00183945\ttest-mlogloss:0.76061+0.0059674\n",
      "test-mlogloss-mean     0.760205\n",
      "test-mlogloss-std      0.005967\n",
      "train-mlogloss-mean    0.643486\n",
      "train-mlogloss-std     0.001678\n",
      "Name: 223, dtype: float64\n"
     ]
    }
   ],
   "source": [
    "# find n_estimators\n",
    "xgb1 = xgb.XGBClassifier(learning_rate=0.1, n_estimators=1000,\n",
    "                         max_depth=5, min_child_weight=1,\n",
    "                         gamma=0,\n",
    "                         subsample=0.8, colsample_bytree=0.8,\n",
    "                         reg_alpha=0, reg_lambda=1,\n",
    "                         objective=\"multi:softprob\")\n",
    "modelfit(xgb1, train_data, train_label)"
   ]
  },
  {
   "cell_type": "code",
   "execution_count": 5,
   "metadata": {
    "collapsed": false
   },
   "outputs": [
    {
     "name": "stdout",
     "output_type": "stream",
     "text": [
      "Fitting 5 folds for each of 12 candidates, totalling 60 fits\n",
      "[CV] max_depth=3, min_child_weight=1 .................................\n",
      "[CV] ....... max_depth=3, min_child_weight=1, score=-0.787328 -  20.1s\n",
      "[CV] max_depth=3, min_child_weight=1 .................................\n",
      "[CV] ....... max_depth=3, min_child_weight=1, score=-0.765830 -  19.9s\n",
      "[CV] max_depth=3, min_child_weight=1 .................................\n",
      "[CV] ....... max_depth=3, min_child_weight=1, score=-0.777115 -  24.9s\n",
      "[CV] max_depth=3, min_child_weight=1 .................................\n",
      "[CV] ....... max_depth=3, min_child_weight=1, score=-0.781507 -  20.7s\n",
      "[CV] max_depth=3, min_child_weight=1 .................................\n",
      "[CV] ....... max_depth=3, min_child_weight=1, score=-0.763768 -  19.4s\n",
      "[CV] max_depth=3, min_child_weight=3 .................................\n",
      "[CV] ....... max_depth=3, min_child_weight=3, score=-0.785794 -  20.7s\n",
      "[CV] max_depth=3, min_child_weight=3 .................................\n",
      "[CV] ....... max_depth=3, min_child_weight=3, score=-0.765140 -  24.5s\n",
      "[CV] max_depth=3, min_child_weight=3 .................................\n",
      "[CV] ....... max_depth=3, min_child_weight=3, score=-0.776329 -  19.5s\n",
      "[CV] max_depth=3, min_child_weight=3 .................................\n",
      "[CV] ....... max_depth=3, min_child_weight=3, score=-0.782331 -  50.2s\n",
      "[CV] max_depth=3, min_child_weight=3 .................................\n",
      "[CV] ....... max_depth=3, min_child_weight=3, score=-0.763826 -  39.2s\n",
      "[CV] max_depth=3, min_child_weight=5 .................................\n",
      "[CV] ....... max_depth=3, min_child_weight=5, score=-0.785365 -  22.2s\n",
      "[CV] max_depth=3, min_child_weight=5 .................................\n",
      "[CV] ....... max_depth=3, min_child_weight=5, score=-0.765577 -  26.9s\n",
      "[CV] max_depth=3, min_child_weight=5 .................................\n",
      "[CV] ....... max_depth=3, min_child_weight=5, score=-0.776276 -  25.3s\n",
      "[CV] max_depth=3, min_child_weight=5 .................................\n",
      "[CV] ....... max_depth=3, min_child_weight=5, score=-0.780795 -  24.4s\n",
      "[CV] max_depth=3, min_child_weight=5 .................................\n",
      "[CV] ....... max_depth=3, min_child_weight=5, score=-0.763733 -  28.7s\n",
      "[CV] max_depth=5, min_child_weight=1 .................................\n",
      "[CV] ....... max_depth=5, min_child_weight=1, score=-0.770136 - 1.0min\n",
      "[CV] max_depth=5, min_child_weight=1 .................................\n",
      "[CV] ....... max_depth=5, min_child_weight=1, score=-0.748727 -  48.9s\n",
      "[CV] max_depth=5, min_child_weight=1 .................................\n",
      "[CV] ....... max_depth=5, min_child_weight=1, score=-0.763774 -  43.3s\n",
      "[CV] max_depth=5, min_child_weight=1 .................................\n",
      "[CV] ....... max_depth=5, min_child_weight=1, score=-0.764872 -  39.0s\n",
      "[CV] max_depth=5, min_child_weight=1 .................................\n",
      "[CV] ....... max_depth=5, min_child_weight=1, score=-0.746769 -  29.0s\n",
      "[CV] max_depth=5, min_child_weight=3 .................................\n",
      "[CV] ....... max_depth=5, min_child_weight=3, score=-0.771055 -  29.8s\n",
      "[CV] max_depth=5, min_child_weight=3 .................................\n",
      "[CV] ....... max_depth=5, min_child_weight=3, score=-0.747829 -  34.1s\n",
      "[CV] max_depth=5, min_child_weight=3 .................................\n",
      "[CV] ....... max_depth=5, min_child_weight=3, score=-0.763936 -  28.8s\n",
      "[CV] max_depth=5, min_child_weight=3 .................................\n",
      "[CV] ....... max_depth=5, min_child_weight=3, score=-0.763771 -  29.6s\n",
      "[CV] max_depth=5, min_child_weight=3 .................................\n",
      "[CV] ....... max_depth=5, min_child_weight=3, score=-0.746430 -  29.4s\n",
      "[CV] max_depth=5, min_child_weight=5 .................................\n",
      "[CV] ....... max_depth=5, min_child_weight=5, score=-0.769187 -  30.5s\n",
      "[CV] max_depth=5, min_child_weight=5 .................................\n",
      "[CV] ....... max_depth=5, min_child_weight=5, score=-0.745464 -  28.9s\n",
      "[CV] max_depth=5, min_child_weight=5 .................................\n",
      "[CV] ....... max_depth=5, min_child_weight=5, score=-0.762853 -  34.3s\n",
      "[CV] max_depth=5, min_child_weight=5 .................................\n",
      "[CV] ....... max_depth=5, min_child_weight=5, score=-0.764582 -  30.2s\n",
      "[CV] max_depth=5, min_child_weight=5 .................................\n",
      "[CV] ....... max_depth=5, min_child_weight=5, score=-0.747104 -  32.5s\n",
      "[CV] max_depth=7, min_child_weight=1 .................................\n",
      "[CV] ....... max_depth=7, min_child_weight=1, score=-0.765496 -  52.6s\n",
      "[CV] max_depth=7, min_child_weight=1 .................................\n"
     ]
    },
    {
     "name": "stderr",
     "output_type": "stream",
     "text": [
      "[Parallel(n_jobs=1)]: Done  31 tasks       | elapsed: 16.1min\n"
     ]
    },
    {
     "name": "stdout",
     "output_type": "stream",
     "text": [
      "[CV] ....... max_depth=7, min_child_weight=1, score=-0.740879 -  47.4s\n",
      "[CV] max_depth=7, min_child_weight=1 .................................\n",
      "[CV] ....... max_depth=7, min_child_weight=1, score=-0.759578 -  46.3s\n",
      "[CV] max_depth=7, min_child_weight=1 .................................\n",
      "[CV] ....... max_depth=7, min_child_weight=1, score=-0.759197 -  46.3s\n",
      "[CV] max_depth=7, min_child_weight=1 .................................\n",
      "[CV] ....... max_depth=7, min_child_weight=1, score=-0.742745 -  47.3s\n",
      "[CV] max_depth=7, min_child_weight=3 .................................\n",
      "[CV] ....... max_depth=7, min_child_weight=3, score=-0.766182 -  47.6s\n",
      "[CV] max_depth=7, min_child_weight=3 .................................\n",
      "[CV] ....... max_depth=7, min_child_weight=3, score=-0.740891 -  44.6s\n",
      "[CV] max_depth=7, min_child_weight=3 .................................\n",
      "[CV] ....... max_depth=7, min_child_weight=3, score=-0.758391 - 1.2min\n",
      "[CV] max_depth=7, min_child_weight=3 .................................\n",
      "[CV] ....... max_depth=7, min_child_weight=3, score=-0.755668 - 1.3min\n",
      "[CV] max_depth=7, min_child_weight=3 .................................\n",
      "[CV] ....... max_depth=7, min_child_weight=3, score=-0.742615 -  39.6s\n",
      "[CV] max_depth=7, min_child_weight=5 .................................\n",
      "[CV] ....... max_depth=7, min_child_weight=5, score=-0.766625 -  40.6s\n",
      "[CV] max_depth=7, min_child_weight=5 .................................\n",
      "[CV] ....... max_depth=7, min_child_weight=5, score=-0.741203 -  40.8s\n",
      "[CV] max_depth=7, min_child_weight=5 .................................\n",
      "[CV] ....... max_depth=7, min_child_weight=5, score=-0.757575 -  51.6s\n",
      "[CV] max_depth=7, min_child_weight=5 .................................\n",
      "[CV] ....... max_depth=7, min_child_weight=5, score=-0.757358 - 1.6min\n",
      "[CV] max_depth=7, min_child_weight=5 .................................\n",
      "[CV] ....... max_depth=7, min_child_weight=5, score=-0.740944 - 1.4min\n",
      "[CV] max_depth=9, min_child_weight=1 .................................\n",
      "[CV] ....... max_depth=9, min_child_weight=1, score=-0.766882 -  51.6s\n",
      "[CV] max_depth=9, min_child_weight=1 .................................\n",
      "[CV] ....... max_depth=9, min_child_weight=1, score=-0.740119 -  53.9s\n",
      "[CV] max_depth=9, min_child_weight=1 .................................\n",
      "[CV] ....... max_depth=9, min_child_weight=1, score=-0.762549 - 1.6min\n",
      "[CV] max_depth=9, min_child_weight=1 .................................\n",
      "[CV] ....... max_depth=9, min_child_weight=1, score=-0.757556 -  54.0s\n",
      "[CV] max_depth=9, min_child_weight=1 .................................\n",
      "[CV] ....... max_depth=9, min_child_weight=1, score=-0.747502 - 1.1min\n",
      "[CV] max_depth=9, min_child_weight=3 .................................\n",
      "[CV] ....... max_depth=9, min_child_weight=3, score=-0.768306 -  51.8s\n",
      "[CV] max_depth=9, min_child_weight=3 .................................\n",
      "[CV] ....... max_depth=9, min_child_weight=3, score=-0.740864 - 1.2min\n",
      "[CV] max_depth=9, min_child_weight=3 .................................\n",
      "[CV] ....... max_depth=9, min_child_weight=3, score=-0.759237 -  59.3s\n",
      "[CV] max_depth=9, min_child_weight=3 .................................\n",
      "[CV] ....... max_depth=9, min_child_weight=3, score=-0.755482 - 1.1min\n",
      "[CV] max_depth=9, min_child_weight=3 .................................\n",
      "[CV] ....... max_depth=9, min_child_weight=3, score=-0.745063 - 1.1min\n",
      "[CV] max_depth=9, min_child_weight=5 .................................\n",
      "[CV] ....... max_depth=9, min_child_weight=5, score=-0.765112 - 1.1min\n",
      "[CV] max_depth=9, min_child_weight=5 .................................\n",
      "[CV] ....... max_depth=9, min_child_weight=5, score=-0.737848 - 1.1min\n",
      "[CV] max_depth=9, min_child_weight=5 .................................\n",
      "[CV] ....... max_depth=9, min_child_weight=5, score=-0.758802 - 1.2min\n",
      "[CV] max_depth=9, min_child_weight=5 .................................\n",
      "[CV] ....... max_depth=9, min_child_weight=5, score=-0.757481 - 2.1min\n",
      "[CV] max_depth=9, min_child_weight=5 .................................\n",
      "[CV] ....... max_depth=9, min_child_weight=5, score=-0.742702 -  59.8s\n"
     ]
    },
    {
     "name": "stderr",
     "output_type": "stream",
     "text": [
      "[Parallel(n_jobs=1)]: Done  60 out of  60 | elapsed: 46.3min finished\n"
     ]
    },
    {
     "data": {
      "text/plain": [
       "([mean: -0.77511, std: 0.00904, params: {'max_depth': 3, 'min_child_weight': 1},\n",
       "  mean: -0.77469, std: 0.00887, params: {'max_depth': 3, 'min_child_weight': 3},\n",
       "  mean: -0.77435, std: 0.00844, params: {'max_depth': 3, 'min_child_weight': 5},\n",
       "  mean: -0.75886, std: 0.00934, params: {'max_depth': 5, 'min_child_weight': 1},\n",
       "  mean: -0.75861, std: 0.00974, params: {'max_depth': 5, 'min_child_weight': 3},\n",
       "  mean: -0.75784, std: 0.00967, params: {'max_depth': 5, 'min_child_weight': 5},\n",
       "  mean: -0.75358, std: 0.00988, params: {'max_depth': 7, 'min_child_weight': 1},\n",
       "  mean: -0.75275, std: 0.00963, params: {'max_depth': 7, 'min_child_weight': 3},\n",
       "  mean: -0.75274, std: 0.01010, params: {'max_depth': 7, 'min_child_weight': 5},\n",
       "  mean: -0.75492, std: 0.00982, params: {'max_depth': 9, 'min_child_weight': 1},\n",
       "  mean: -0.75379, std: 0.00986, params: {'max_depth': 9, 'min_child_weight': 3},\n",
       "  mean: -0.75239, std: 0.01034, params: {'max_depth': 9, 'min_child_weight': 5}],\n",
       " {'max_depth': 9, 'min_child_weight': 5},\n",
       " -0.75238973791875841)"
      ]
     },
     "execution_count": 5,
     "metadata": {},
     "output_type": "execute_result"
    }
   ],
   "source": [
    "# grid search max_depth and min_child_weight\n",
    "param_grid = [{\"max_depth\": [3, 5, 7, 9],\n",
    "               \"min_child_weight\": [1, 3, 5]}]\n",
    "xgb2 = xgb.XGBClassifier(learning_rate=0.1, n_estimators=224,\n",
    "                         gamma=0,\n",
    "                         subsample=0.8, colsample_bytree=0.8,\n",
    "                         reg_alpha=0, reg_lambda=1,\n",
    "                         objective=\"multi:softprob\")\n",
    "gs2 = GridSearchCV(xgb2, param_grid, fit_params={\"eval_metric\": \"mlogloss\"},\n",
    "                  scoring=scorer, n_jobs=1, cv=5, verbose=3)\n",
    "gs2.fit(train_data, train_label)\n",
    "gs2.grid_scores_, gs2.best_params_, gs2.best_score_"
   ]
  },
  {
   "cell_type": "code",
   "execution_count": 6,
   "metadata": {
    "collapsed": false
   },
   "outputs": [
    {
     "name": "stdout",
     "output_type": "stream",
     "text": [
      "Fitting 5 folds for each of 6 candidates, totalling 30 fits\n",
      "[CV] max_depth=9, min_child_weight=5 .................................\n",
      "[CV] ....... max_depth=9, min_child_weight=5, score=-0.765112 - 1.7min\n",
      "[CV] max_depth=9, min_child_weight=5 .................................\n",
      "[CV] ....... max_depth=9, min_child_weight=5, score=-0.737848 - 2.1min\n",
      "[CV] max_depth=9, min_child_weight=5 .................................\n",
      "[CV] ....... max_depth=9, min_child_weight=5, score=-0.758802 -  56.5s\n",
      "[CV] max_depth=9, min_child_weight=5 .................................\n",
      "[CV] ....... max_depth=9, min_child_weight=5, score=-0.757481 - 1.0min\n",
      "[CV] max_depth=9, min_child_weight=5 .................................\n",
      "[CV] ....... max_depth=9, min_child_weight=5, score=-0.742702 -  56.1s\n",
      "[CV] max_depth=9, min_child_weight=7 .................................\n",
      "[CV] ....... max_depth=9, min_child_weight=7, score=-0.765371 -  54.8s\n",
      "[CV] max_depth=9, min_child_weight=7 .................................\n",
      "[CV] ....... max_depth=9, min_child_weight=7, score=-0.737506 -  59.7s\n",
      "[CV] max_depth=9, min_child_weight=7 .................................\n",
      "[CV] ....... max_depth=9, min_child_weight=7, score=-0.758444 - 1.0min\n",
      "[CV] max_depth=9, min_child_weight=7 .................................\n",
      "[CV] ....... max_depth=9, min_child_weight=7, score=-0.756096 -  51.7s\n",
      "[CV] max_depth=9, min_child_weight=7 .................................\n",
      "[CV] ....... max_depth=9, min_child_weight=7, score=-0.744114 -  49.4s\n",
      "[CV] max_depth=11, min_child_weight=5 ................................\n",
      "[CV] ...... max_depth=11, min_child_weight=5, score=-0.769591 - 1.5min\n",
      "[CV] max_depth=11, min_child_weight=5 ................................\n",
      "[CV] ...... max_depth=11, min_child_weight=5, score=-0.739418 - 1.3min\n",
      "[CV] max_depth=11, min_child_weight=5 ................................\n",
      "[CV] ...... max_depth=11, min_child_weight=5, score=-0.765820 - 1.1min\n",
      "[CV] max_depth=11, min_child_weight=5 ................................\n",
      "[CV] ...... max_depth=11, min_child_weight=5, score=-0.761252 - 1.3min\n",
      "[CV] max_depth=11, min_child_weight=5 ................................\n",
      "[CV] ...... max_depth=11, min_child_weight=5, score=-0.746622 - 2.3min\n",
      "[CV] max_depth=11, min_child_weight=7 ................................\n",
      "[CV] ...... max_depth=11, min_child_weight=7, score=-0.767331 - 1.8min\n",
      "[CV] max_depth=11, min_child_weight=7 ................................\n",
      "[CV] ...... max_depth=11, min_child_weight=7, score=-0.740917 - 1.1min\n",
      "[CV] max_depth=11, min_child_weight=7 ................................\n",
      "[CV] ...... max_depth=11, min_child_weight=7, score=-0.763392 - 2.3min\n",
      "[CV] max_depth=11, min_child_weight=7 ................................\n",
      "[CV] ...... max_depth=11, min_child_weight=7, score=-0.758432 - 1.3min\n",
      "[CV] max_depth=11, min_child_weight=7 ................................\n",
      "[CV] ...... max_depth=11, min_child_weight=7, score=-0.750613 - 1.2min\n",
      "[CV] max_depth=13, min_child_weight=5 ................................\n",
      "[CV] ...... max_depth=13, min_child_weight=5, score=-0.775759 - 1.3min\n",
      "[CV] max_depth=13, min_child_weight=5 ................................\n",
      "[CV] ...... max_depth=13, min_child_weight=5, score=-0.743929 - 1.3min\n",
      "[CV] max_depth=13, min_child_weight=5 ................................\n",
      "[CV] ...... max_depth=13, min_child_weight=5, score=-0.771889 - 1.6min\n",
      "[CV] max_depth=13, min_child_weight=5 ................................\n",
      "[CV] ...... max_depth=13, min_child_weight=5, score=-0.764714 - 1.4min\n",
      "[CV] max_depth=13, min_child_weight=5 ................................\n",
      "[CV] ...... max_depth=13, min_child_weight=5, score=-0.753980 - 1.9min\n",
      "[CV] max_depth=13, min_child_weight=7 ................................\n",
      "[CV] ...... max_depth=13, min_child_weight=7, score=-0.774226 - 2.7min\n",
      "[CV] max_depth=13, min_child_weight=7 ................................\n",
      "[CV] ...... max_depth=13, min_child_weight=7, score=-0.744576 - 1.2min\n",
      "[CV] max_depth=13, min_child_weight=7 ................................\n",
      "[CV] ...... max_depth=13, min_child_weight=7, score=-0.768526 - 1.4min\n",
      "[CV] max_depth=13, min_child_weight=7 ................................\n",
      "[CV] ...... max_depth=13, min_child_weight=7, score=-0.763464 - 1.4min\n",
      "[CV] max_depth=13, min_child_weight=7 ................................\n",
      "[CV] ...... max_depth=13, min_child_weight=7, score=-0.753035 - 1.3min\n"
     ]
    },
    {
     "name": "stderr",
     "output_type": "stream",
     "text": [
      "[Parallel(n_jobs=1)]: Done  30 out of  30 | elapsed: 42.0min finished\n"
     ]
    },
    {
     "data": {
      "text/plain": [
       "([mean: -0.75239, std: 0.01034, params: {'max_depth': 9, 'min_child_weight': 5},\n",
       "  mean: -0.75231, std: 0.01009, params: {'max_depth': 9, 'min_child_weight': 7},\n",
       "  mean: -0.75654, std: 0.01158, params: {'max_depth': 11, 'min_child_weight': 5},\n",
       "  mean: -0.75614, std: 0.00944, params: {'max_depth': 11, 'min_child_weight': 7},\n",
       "  mean: -0.76205, std: 0.01171, params: {'max_depth': 13, 'min_child_weight': 5},\n",
       "  mean: -0.76077, std: 0.01068, params: {'max_depth': 13, 'min_child_weight': 7}],\n",
       " {'max_depth': 9, 'min_child_weight': 7},\n",
       " -0.75230698686101383)"
      ]
     },
     "execution_count": 6,
     "metadata": {},
     "output_type": "execute_result"
    }
   ],
   "source": [
    "# grid search max_depth and min_child_weight, second time\n",
    "param_grid = [{\"max_depth\": [9, 11, 13],\n",
    "               \"min_child_weight\": [5, 7]}]\n",
    "xgb3 = xgb.XGBClassifier(learning_rate=0.1, n_estimators=224,\n",
    "                         gamma=0,\n",
    "                         subsample=0.8, colsample_bytree=0.8,\n",
    "                         reg_alpha=0, reg_lambda=1,\n",
    "                         objective=\"multi:softprob\")\n",
    "gs3 = GridSearchCV(xgb3, param_grid, fit_params={\"eval_metric\": \"mlogloss\"},\n",
    "                  scoring=scorer, n_jobs=1, cv=5, verbose=3)\n",
    "gs3.fit(train_data, train_label)\n",
    "gs3.grid_scores_, gs3.best_params_, gs3.best_score_"
   ]
  },
  {
   "cell_type": "code",
   "execution_count": null,
   "metadata": {
    "collapsed": false
   },
   "outputs": [
    {
     "name": "stdout",
     "output_type": "stream",
     "text": [
      "Fitting 5 folds for each of 6 candidates, totalling 30 fits\n",
      "[CV] max_depth=8, min_child_weight=7 .................................\n",
      "[CV] ....... max_depth=8, min_child_weight=7, score=-0.765518 -  43.9s\n",
      "[CV] max_depth=8, min_child_weight=7 .................................\n",
      "[CV] ....... max_depth=8, min_child_weight=7, score=-0.737837 -  49.1s\n",
      "[CV] max_depth=8, min_child_weight=7 .................................\n",
      "[CV] ....... max_depth=8, min_child_weight=7, score=-0.757609 -  54.1s\n",
      "[CV] max_depth=8, min_child_weight=7 .................................\n",
      "[CV] ....... max_depth=8, min_child_weight=7, score=-0.756022 -  58.4s\n",
      "[CV] max_depth=8, min_child_weight=7 .................................\n",
      "[CV] ....... max_depth=8, min_child_weight=7, score=-0.743046 -  54.7s\n",
      "[CV] max_depth=8, min_child_weight=9 .................................\n",
      "[CV] ....... max_depth=8, min_child_weight=9, score=-0.766313 -  53.6s\n",
      "[CV] max_depth=8, min_child_weight=9 .................................\n",
      "[CV] ....... max_depth=8, min_child_weight=9, score=-0.738771 -  53.3s\n",
      "[CV] max_depth=8, min_child_weight=9 .................................\n",
      "[CV] ....... max_depth=8, min_child_weight=9, score=-0.758928 -  54.2s\n",
      "[CV] max_depth=8, min_child_weight=9 .................................\n",
      "[CV] ....... max_depth=8, min_child_weight=9, score=-0.757061 -  51.2s\n",
      "[CV] max_depth=8, min_child_weight=9 .................................\n",
      "[CV] ....... max_depth=8, min_child_weight=9, score=-0.743968 - 1.9min\n",
      "[CV] max_depth=9, min_child_weight=7 .................................\n",
      "[CV] ....... max_depth=9, min_child_weight=7, score=-0.765371 - 1.7min\n",
      "[CV] max_depth=9, min_child_weight=7 .................................\n",
      "[CV] ....... max_depth=9, min_child_weight=7, score=-0.737506 - 1.2min\n",
      "[CV] max_depth=9, min_child_weight=7 .................................\n",
      "[CV] ....... max_depth=9, min_child_weight=7, score=-0.758444 -  57.5s\n",
      "[CV] max_depth=9, min_child_weight=7 .................................\n",
      "[CV] ....... max_depth=9, min_child_weight=7, score=-0.756096 -  55.6s\n",
      "[CV] max_depth=9, min_child_weight=7 .................................\n",
      "[CV] ....... max_depth=9, min_child_weight=7, score=-0.744114 - 1.2min\n",
      "[CV] max_depth=9, min_child_weight=9 .................................\n",
      "[CV] ....... max_depth=9, min_child_weight=9, score=-0.764929 -  56.3s\n",
      "[CV] max_depth=9, min_child_weight=9 .................................\n",
      "[CV] ....... max_depth=9, min_child_weight=9, score=-0.738916 - 1.1min\n",
      "[CV] max_depth=9, min_child_weight=9 .................................\n",
      "[CV] ....... max_depth=9, min_child_weight=9, score=-0.759038 - 1.1min\n",
      "[CV] max_depth=9, min_child_weight=9 .................................\n",
      "[CV] ....... max_depth=9, min_child_weight=9, score=-0.758379 -  57.2s\n",
      "[CV] max_depth=9, min_child_weight=9 .................................\n",
      "[CV] ....... max_depth=9, min_child_weight=9, score=-0.745237 -  57.1s\n",
      "[CV] max_depth=10, min_child_weight=7 ................................\n",
      "[CV] ...... max_depth=10, min_child_weight=7, score=-0.766405 - 1.1min\n",
      "[CV] max_depth=10, min_child_weight=7 ................................\n",
      "[CV] ...... max_depth=10, min_child_weight=7, score=-0.737072 - 1.1min\n",
      "[CV] max_depth=10, min_child_weight=7 ................................\n",
      "[CV] ...... max_depth=10, min_child_weight=7, score=-0.761199 - 1.0min\n",
      "[CV] max_depth=10, min_child_weight=7 ................................\n",
      "[CV] ...... max_depth=10, min_child_weight=7, score=-0.758227 - 1.1min\n",
      "[CV] max_depth=10, min_child_weight=7 ................................\n",
      "[CV] ...... max_depth=10, min_child_weight=7, score=-0.746325 - 1.0min\n",
      "[CV] max_depth=10, min_child_weight=9 ................................\n",
      "[CV] ...... max_depth=10, min_child_weight=9, score=-0.767421 - 1.1min\n",
      "[CV] max_depth=10, min_child_weight=9 ................................\n",
      "[CV] ...... max_depth=10, min_child_weight=9, score=-0.738508 - 1.1min\n",
      "[CV] max_depth=10, min_child_weight=9 ................................\n",
      "[CV] ...... max_depth=10, min_child_weight=9, score=-0.762678 - 1.1min\n",
      "[CV] max_depth=10, min_child_weight=9 ................................\n",
      "[CV] ...... max_depth=10, min_child_weight=9, score=-0.758544 - 1.2min\n",
      "[CV] max_depth=10, min_child_weight=9 ................................\n",
      "[CV] ...... max_depth=10, min_child_weight=9, score=-0.745763 - 1.1min\n"
     ]
    },
    {
     "name": "stderr",
     "output_type": "stream",
     "text": [
      "[Parallel(n_jobs=1)]: Done  30 out of  30 | elapsed: 31.9min finished\n"
     ]
    },
    {
     "data": {
      "text/plain": [
       "([mean: -0.75201, std: 0.01011, params: {'max_depth': 8, 'min_child_weight': 7},\n",
       "  mean: -0.75301, std: 0.01013, params: {'max_depth': 8, 'min_child_weight': 9},\n",
       "  mean: -0.75231, std: 0.01009, params: {'max_depth': 9, 'min_child_weight': 7},\n",
       "  mean: -0.75330, std: 0.00965, params: {'max_depth': 9, 'min_child_weight': 9},\n",
       "  mean: -0.75385, std: 0.01067, params: {'max_depth': 10, 'min_child_weight': 7},\n",
       "  mean: -0.75458, std: 0.01079, params: {'max_depth': 10, 'min_child_weight': 9}],\n",
       " {'max_depth': 8, 'min_child_weight': 7},\n",
       " -0.75200706884951218)"
      ]
     },
     "execution_count": 7,
     "metadata": {},
     "output_type": "execute_result"
    }
   ],
   "source": [
    "# grid search max_depth and min_child_weight, third time\n",
    "param_grid = [{\"max_depth\": [8, 9, 10],\n",
    "               \"min_child_weight\": [7, 9]}]\n",
    "xgb4 = xgb.XGBClassifier(learning_rate=0.1, n_estimators=224,\n",
    "                         gamma=0,\n",
    "                         subsample=0.8, colsample_bytree=0.8,\n",
    "                         reg_alpha=0, reg_lambda=1,\n",
    "                         objective=\"multi:softprob\")\n",
    "gs4 = GridSearchCV(xgb4, param_grid, fit_params={\"eval_metric\": \"mlogloss\"},\n",
    "                  scoring=scorer, n_jobs=1, cv=5, verbose=3)\n",
    "gs4.fit(train_data, train_label)\n",
    "gs4.grid_scores_, gs4.best_params_, gs4.best_score_"
   ]
  },
  {
   "cell_type": "code",
   "execution_count": null,
   "metadata": {
    "collapsed": false
   },
   "outputs": [
    {
     "name": "stdout",
     "output_type": "stream",
     "text": [
      "Fitting 5 folds for each of 3 candidates, totalling 15 fits\n",
      "[CV] max_depth=8, min_child_weight=6 .................................\n"
     ]
    }
   ],
   "source": [
    "# grid search max_depth and min_child_weight, final time\n",
    "param_grid = [{\"max_depth\": [8],\n",
    "               \"min_child_weight\": [6, 7, 8]}]\n",
    "xgb5 = xgb.XGBClassifier(learning_rate=0.1, n_estimators=224,\n",
    "                         gamma=0,\n",
    "                         subsample=0.8, colsample_bytree=0.8,\n",
    "                         reg_alpha=0, reg_lambda=1,\n",
    "                         objective=\"multi:softprob\")\n",
    "gs5 = GridSearchCV(xgb5, param_grid, fit_params={\"eval_metric\": \"mlogloss\"},\n",
    "                  scoring=scorer, n_jobs=1, cv=5, verbose=3)\n",
    "gs5.fit(train_data, train_label)\n",
    "gs5.grid_scores_, gs5.best_params_, gs5.best_score_"
   ]
  },
  {
   "cell_type": "code",
   "execution_count": null,
   "metadata": {
    "collapsed": false
   },
   "outputs": [],
   "source": [
    "# grid search gamma\n",
    "param_grid = [{\"gamma\": [0, 0.1, 0.2, 0.3, 0.4, 0.5]}]\n",
    "xgb6 = xgb.XGBClassifier(learning_rate=0.1, n_estimators=224,\n",
    "                         max_depth=8, min_child_weight=6,\n",
    "                         subsample=0.8, colsample_bytree=0.8,\n",
    "                         reg_alpha=0, reg_lambda=1,\n",
    "                         objective=\"multi:softprob\")\n",
    "gs6 = GridSearchCV(xgb6, param_grid, fit_params={\"eval_metric\": \"mlogloss\"},\n",
    "                  scoring=scorer, n_jobs=1, cv=5, verbose=3)\n",
    "gs6.fit(train_data, train_label)\n",
    "gs6.grid_scores_, gs6.best_params_, gs6.best_score_"
   ]
  },
  {
   "cell_type": "code",
   "execution_count": null,
   "metadata": {
    "collapsed": false
   },
   "outputs": [],
   "source": [
    "# grid search gamma, second time\n",
    "param_grid = [{\"gamma\": [0.5, 0.6, 0.7, 0.8, 0.9, 1]}]\n",
    "xgb7 = xgb.XGBClassifier(learning_rate=0.1, n_estimators=224,\n",
    "                         max_depth=8, min_child_weight=6,\n",
    "                         subsample=0.8, colsample_bytree=0.8,\n",
    "                         reg_alpha=0, reg_lambda=1,\n",
    "                         objective=\"multi:softprob\")\n",
    "gs7 = GridSearchCV(xgb7, param_grid, fit_params={\"eval_metric\": \"mlogloss\"},\n",
    "                  scoring=scorer, n_jobs=1, cv=5, verbose=3)\n",
    "gs7.fit(train_data, train_label)\n",
    "gs7.grid_scores_, gs7.best_params_, gs7.best_score_"
   ]
  },
  {
   "cell_type": "code",
   "execution_count": null,
   "metadata": {
    "collapsed": false
   },
   "outputs": [],
   "source": [
    "# grid search gamma, second time\n",
    "param_grid = [{\"gamma\": [1, 2, 3]}]\n",
    "xgb7 = xgb.XGBClassifier(learning_rate=0.1, n_estimators=224,\n",
    "                         max_depth=8, min_child_weight=6,\n",
    "                         subsample=0.8, colsample_bytree=0.8,\n",
    "                         reg_alpha=0, reg_lambda=1,\n",
    "                         objective=\"multi:softprob\")\n",
    "gs7 = GridSearchCV(xgb7, param_grid, fit_params={\"eval_metric\": \"mlogloss\"},\n",
    "                  scoring=scorer, n_jobs=1, cv=5, verbose=3)\n",
    "gs7.fit(train_data, train_label)\n",
    "gs7.grid_scores_, gs7.best_params_, gs7.best_score_"
   ]
  },
  {
   "cell_type": "code",
   "execution_count": null,
   "metadata": {
    "collapsed": false
   },
   "outputs": [],
   "source": [
    "# grid search gamma, second time\n",
    "param_grid7 = [{\"gamma\": [1.7, 1.8]}]\n",
    "xgb7 = xgb.XGBClassifier(learning_rate=0.1, n_estimators=224,\n",
    "                         max_depth=8, min_child_weight=6,\n",
    "                         subsample=0.8, colsample_bytree=0.8,\n",
    "                         reg_alpha=0, reg_lambda=1,\n",
    "                         objective=\"multi:softprob\")\n",
    "gs7 = GridSearchCV(xgb7, param_grid7, fit_params={\"eval_metric\": \"mlogloss\"},\n",
    "                  scoring=scorer, n_jobs=1, cv=5, verbose=3)\n",
    "gs7.fit(train_data, train_label)\n",
    "gs7.grid_scores_, gs7.best_params_, gs7.best_score_"
   ]
  },
  {
   "cell_type": "code",
   "execution_count": null,
   "metadata": {
    "collapsed": false
   },
   "outputs": [],
   "source": [
    "# find n_estimators\n",
    "xgb8 = xgb.XGBClassifier(learning_rate=0.1, n_estimators=1000,\n",
    "                         max_depth=8, min_child_weight=6,\n",
    "                         gamma=1.7,\n",
    "                         subsample=0.8, colsample_bytree=0.8,\n",
    "                         reg_alpha=0, reg_lambda=1,\n",
    "                         objective=\"multi:softprob\")\n",
    "modelfit(xgb8, train_data, train_label)"
   ]
  },
  {
   "cell_type": "code",
   "execution_count": null,
   "metadata": {
    "collapsed": true
   },
   "outputs": [],
   "source": [
    "xgb9 = xgb.XGBClassifier(learning_rate=0.1, n_estimators=150,\n",
    "                         max_depth=8, min_child_weight=6,\n",
    "                         gamma=1.7,\n",
    "                         subsample=0.8, colsample_bytree=0.8,\n",
    "                         reg_alpha=0, reg_lambda=1,\n",
    "                         objective=\"multi:softprob\")\n",
    "modelsummit(xgb9, train_data, train_label, test_data, label_list)"
   ]
  },
  {
   "cell_type": "code",
   "execution_count": null,
   "metadata": {
    "collapsed": false,
    "scrolled": false
   },
   "outputs": [],
   "source": [
    "# grid search subsample, colsample_bytree\n",
    "param_grid10 = [{\"subsample\": [0.6, 0.7, 0.8, 0.9],\n",
    "                 \"colsample_bytree\": [0.6, 0.7, 0.8, 0.9]}]\n",
    "xgb10 = xgb.XGBClassifier(learning_rate=0.1, n_estimators=150,\n",
    "                         max_depth=8, min_child_weight=6,\n",
    "                         gamma=1.7,\n",
    "                         reg_alpha=0, reg_lambda=1,\n",
    "                         objective=\"multi:softprob\")\n",
    "gs10 = GridSearchCV(xgb10, param_grid10, fit_params={\"eval_metric\": \"mlogloss\"},\n",
    "                    scoring=scorer, n_jobs=1, cv=5, verbose=3)\n",
    "gs10.fit(train_data, train_label)\n",
    "gs10.grid_scores_, gs10.best_params_, gs10.best_score_"
   ]
  },
  {
   "cell_type": "code",
   "execution_count": null,
   "metadata": {
    "collapsed": false
   },
   "outputs": [],
   "source": [
    "# grid search subsample, colsample_bytree, second round\n",
    "param_grid11 = [{\"subsample\": [0.75, 0.8, 0.85],\n",
    "                 \"colsample_bytree\": [0.75, 0.8, 0.85]}]\n",
    "xgb11 = xgb.XGBClassifier(learning_rate=0.1, n_estimators=150,\n",
    "                         max_depth=8, min_child_weight=6,\n",
    "                         gamma=1.7,\n",
    "                         reg_alpha=0, reg_lambda=1,\n",
    "                         objective=\"multi:softprob\")\n",
    "gs11 = GridSearchCV(xgb11, param_grid11, fit_params={\"eval_metric\": \"mlogloss\"},\n",
    "                    scoring=scorer, n_jobs=1, cv=5, verbose=3)\n",
    "gs11.fit(train_data, train_label)\n",
    "gs11.grid_scores_, gs11.best_params_, gs11.best_score_"
   ]
  },
  {
   "cell_type": "code",
   "execution_count": null,
   "metadata": {
    "collapsed": false
   },
   "outputs": [],
   "source": [
    "# grid search subsample, colsample_bytree, second round\n",
    "param_grid12 = [{\"reg_alpha\": [1e-5, 0.01, 0.1, 1, 100]}]\n",
    "xgb12 = xgb.XGBClassifier(learning_rate=0.1, n_estimators=150,\n",
    "                         max_depth=8, min_child_weight=6,\n",
    "                         gamma=1.7,\n",
    "                         subsample=0.8, colsample_bytree=0.75,\n",
    "                         reg_lambda=1,\n",
    "                         objective=\"multi:softprob\")\n",
    "gs12 = GridSearchCV(xgb12, param_grid12, fit_params={\"eval_metric\": \"mlogloss\"},\n",
    "                    scoring=scorer, n_jobs=1, cv=5, verbose=3)\n",
    "gs12.fit(train_data, train_label)\n",
    "gs12.grid_scores_, gs12.best_params_, gs12.best_score_"
   ]
  },
  {
   "cell_type": "code",
   "execution_count": null,
   "metadata": {
    "collapsed": false
   },
   "outputs": [],
   "source": [
    "# grid search subsample, colsample_bytree, second round\n",
    "param_grid13 = [{\"reg_alpha\": [0.001, 0.005, 0.01, 0.05]}]\n",
    "xgb13 = xgb.XGBClassifier(learning_rate=0.1, n_estimators=150,\n",
    "                         max_depth=8, min_child_weight=6,\n",
    "                         gamma=1.7,\n",
    "                         subsample=0.8, colsample_bytree=0.75,\n",
    "                         reg_lambda=1,\n",
    "                         objective=\"multi:softprob\")\n",
    "gs13 = GridSearchCV(xgb13, param_grid13, fit_params={\"eval_metric\": \"mlogloss\"},\n",
    "                    scoring=scorer, n_jobs=1, cv=5, verbose=3)\n",
    "gs13.fit(train_data, train_label)\n",
    "gs13.grid_scores_, gs13.best_params_, gs13.best_score_"
   ]
  },
  {
   "cell_type": "code",
   "execution_count": null,
   "metadata": {
    "collapsed": false
   },
   "outputs": [],
   "source": [
    "# grid search subsample, colsample_bytree, second round\n",
    "param_grid14 = [{\"reg_lambda\": [1e-5, 0.01, 0.1, 1, 100]}]\n",
    "xgb14 = xgb.XGBClassifier(learning_rate=0.1, n_estimators=150,\n",
    "                         max_depth=8, min_child_weight=6,\n",
    "                         gamma=1.7,\n",
    "                         subsample=0.8, colsample_bytree=0.75,\n",
    "                         reg_alpha=0.005,\n",
    "                         objective=\"multi:softprob\")\n",
    "gs14 = GridSearchCV(xgb14, param_grid14, fit_params={\"eval_metric\": \"mlogloss\"},\n",
    "                    scoring=scorer, n_jobs=1, cv=5, verbose=3)\n",
    "gs14.fit(train_data, train_label)\n",
    "gs14.grid_scores_, gs14.best_params_, gs14.best_score_"
   ]
  },
  {
   "cell_type": "code",
   "execution_count": null,
   "metadata": {
    "collapsed": false
   },
   "outputs": [],
   "source": [
    "# grid search subsample, colsample_bytree, second round\n",
    "param_grid15 = [{\"reg_lambda\": [0.5, 1, 5]}]\n",
    "xgb15 = xgb.XGBClassifier(learning_rate=0.1, n_estimators=150,\n",
    "                         max_depth=8, min_child_weight=6,\n",
    "                         gamma=1.7,\n",
    "                         subsample=0.8, colsample_bytree=0.75,\n",
    "                         reg_alpha=0.005,\n",
    "                         objective=\"multi:softprob\")\n",
    "gs15 = GridSearchCV(xgb15, param_grid15, fit_params={\"eval_metric\": \"mlogloss\"},\n",
    "                    scoring=scorer, n_jobs=1, cv=5, verbose=3)\n",
    "gs15.fit(train_data, train_label)\n",
    "gs15.grid_scores_, gs15.best_params_, gs15.best_score_"
   ]
  },
  {
   "cell_type": "code",
   "execution_count": null,
   "metadata": {
    "collapsed": false
   },
   "outputs": [],
   "source": [
    "# find n_estimators\n",
    "xgb8 = xgb.XGBClassifier(learning_rate=0.01, n_estimators=5000,\n",
    "                         max_depth=8, min_child_weight=6,\n",
    "                         gamma=1.7,\n",
    "                         subsample=0.8, colsample_bytree=0.75,\n",
    "                         reg_alpha=0.005, reg_lambda=1,\n",
    "                         objective=\"multi:softprob\")\n",
    "modelfit(xgb8, train_data, train_label)"
   ]
  },
  {
   "cell_type": "code",
   "execution_count": null,
   "metadata": {
    "collapsed": false
   },
   "outputs": [],
   "source": [
    "xgbfinal = xgb.XGBClassifier(learning_rate=0.01, n_estimators=1818,\n",
    "                         max_depth=8, min_child_weight=6,\n",
    "                         gamma=1.7,\n",
    "                         subsample=0.8, colsample_bytree=0.75,\n",
    "                         reg_alpha=0.005, reg_lambda=1,\n",
    "                         objective=\"multi:softprob\")\n",
    "modelsumit(xgbfinal, train_data, train_label, test_data, label_list)"
   ]
  }
 ],
 "metadata": {
  "anaconda-cloud": {},
  "kernelspec": {
   "display_name": "Python [default]",
   "language": "python",
   "name": "python3"
  },
  "language_info": {
   "codemirror_mode": {
    "name": "ipython",
    "version": 3
   },
   "file_extension": ".py",
   "mimetype": "text/x-python",
   "name": "python",
   "nbconvert_exporter": "python",
   "pygments_lexer": "ipython3",
   "version": "3.5.2"
  }
 },
 "nbformat": 4,
 "nbformat_minor": 0
}
